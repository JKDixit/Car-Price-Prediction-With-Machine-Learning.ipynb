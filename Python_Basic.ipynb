{
  "cells": [
    {
      "cell_type": "markdown",
      "metadata": {
        "id": "view-in-github",
        "colab_type": "text"
      },
      "source": [
        "<a href=\"https://colab.research.google.com/github/JKDixit/Car-Price-Prediction-With-Machine-Learning.ipynb/blob/main/Python_Basic.ipynb\" target=\"_parent\"><img src=\"https://colab.research.google.com/assets/colab-badge.svg\" alt=\"Open In Colab\"/></a>"
      ]
    },
    {
      "cell_type": "code",
      "execution_count": null,
      "metadata": {
        "colab": {
          "base_uri": "https://localhost:8080/"
        },
        "id": "m6VHsjCxl0wy",
        "outputId": "685afe56-32f6-45e7-ee78-7d30e244fdfa"
      },
      "outputs": [
        {
          "name": "stdout",
          "output_type": "stream",
          "text": [
            "hello world\n",
            "Jatin Dixit\n",
            "\n"
          ]
        }
      ],
      "source": [
        "print(\"hello world\")\n",
        "print(\"Jatin Dixit\")\n",
        "print(\"\\n\")"
      ]
    },
    {
      "cell_type": "code",
      "execution_count": null,
      "metadata": {
        "colab": {
          "base_uri": "https://localhost:8080/"
        },
        "id": "Y6AY5_4er5x2",
        "outputId": "1eb17403-61a9-490a-dd6a-72080906ea8a"
      },
      "outputs": [
        {
          "name": "stdout",
          "output_type": "stream",
          "text": [
            "hello world\n",
            "Jatin Dixit\n",
            "\n",
            "\n"
          ]
        }
      ],
      "source": [
        "print(\"hello world\")\n",
        "print(\"Jatin Dixit\")\n",
        "print(\"\\n\")"
      ]
    },
    {
      "cell_type": "code",
      "execution_count": null,
      "metadata": {
        "colab": {
          "base_uri": "https://localhost:8080/"
        },
        "id": "ljT_87M9sKCG",
        "outputId": "2fd794d1-8f6d-4c49-df08-71abb9f11034"
      },
      "outputs": [
        {
          "name": "stdout",
          "output_type": "stream",
          "text": [
            "hello. Ram\n"
          ]
        }
      ],
      "source": [
        "print(\"hello.\", \"Ram\")"
      ]
    },
    {
      "cell_type": "code",
      "execution_count": null,
      "metadata": {
        "colab": {
          "base_uri": "https://localhost:8080/"
        },
        "id": "N4dq__J5tMm6",
        "outputId": "75be22ad-33d8-4df5-b1a6-bdde17e12424"
      },
      "outputs": [
        {
          "name": "stdout",
          "output_type": "stream",
          "text": [
            "35\n",
            "90\n",
            "60\n"
          ]
        }
      ],
      "source": [
        "print(35)\n",
        "print(90)\n",
        "print(35+25)"
      ]
    },
    {
      "cell_type": "markdown",
      "metadata": {
        "id": "rS7ynbBxxVK7"
      },
      "source": [
        "Print using variables and Check types of variables\n"
      ]
    },
    {
      "cell_type": "code",
      "execution_count": null,
      "metadata": {
        "colab": {
          "base_uri": "https://localhost:8080/"
        },
        "id": "mFXWeTxFy2Px",
        "outputId": "0b1f32cd-3f0b-45b6-9432-983ec72d8df3"
      },
      "outputs": [
        {
          "name": "stdout",
          "output_type": "stream",
          "text": [
            "jatin\n",
            "20\n",
            "my name is: jatin\n",
            "20\n",
            "<class 'str'>\n",
            "<class 'int'>\n",
            "<class 'float'>\n"
          ]
        }
      ],
      "source": [
        "name=\"jatin\"\n",
        "age=20\n",
        "price=80.98\n",
        "print(name)\n",
        "print(age)\n",
        "print(\"my name is:\",name)\n",
        "age2=age\n",
        "print(age2)\n",
        "print(type(name))\n",
        "print(type(age))\n",
        "print(type(price))"
      ]
    },
    {
      "cell_type": "markdown",
      "metadata": {
        "id": "9wAiD2Go8mNz"
      },
      "source": [
        "Now We Have three methods to Present String '',\"\",''' '''."
      ]
    },
    {
      "cell_type": "code",
      "execution_count": null,
      "metadata": {
        "colab": {
          "base_uri": "https://localhost:8080/"
        },
        "id": "nY84MvfO8-tN",
        "outputId": "9c0206c8-1680-4951-8418-e82bc774cda7"
      },
      "outputs": [
        {
          "name": "stdout",
          "output_type": "stream",
          "text": [
            "Jk\n",
            "JK\n",
            "JK\n"
          ]
        }
      ],
      "source": [
        "name1='Jk'\n",
        "name2=\"JK\"\n",
        "name3='''JK'''\n",
        "print(name1)\n",
        "print(name2)\n",
        "print(name3)"
      ]
    },
    {
      "cell_type": "markdown",
      "metadata": {
        "id": "r3CP_aI7A82G"
      },
      "source": [
        "Adding Two Numbers"
      ]
    },
    {
      "cell_type": "code",
      "execution_count": null,
      "metadata": {
        "colab": {
          "base_uri": "https://localhost:8080/"
        },
        "id": "2I_3X2deA5p7",
        "outputId": "8ac93d28-58e6-4b55-a542-12d1038c6d6a"
      },
      "outputs": [
        {
          "name": "stdout",
          "output_type": "stream",
          "text": [
            "7\n"
          ]
        }
      ],
      "source": [
        "a=2\n",
        "b=5\n",
        "sum=a+b\n",
        "print(sum)\n"
      ]
    },
    {
      "cell_type": "markdown",
      "metadata": {
        "id": "YrXfY9xYGD0y"
      },
      "source": [
        "Operators uses in Python."
      ]
    },
    {
      "cell_type": "code",
      "execution_count": null,
      "metadata": {
        "colab": {
          "base_uri": "https://localhost:8080/"
        },
        "id": "SCATFTebGQRF",
        "outputId": "fce7e5db-5145-4de6-9efb-af70d007c1ef"
      },
      "outputs": [
        {
          "name": "stdout",
          "output_type": "stream",
          "text": [
            "7\n",
            "3\n",
            "10\n",
            "2.5\n",
            "1\n",
            "25\n",
            "2\n"
          ]
        }
      ],
      "source": [
        "#Arithmatic Operators\n",
        "a=5\n",
        "b=2\n",
        "print(a+b)#adding\n",
        "print(a-b)#substraction\n",
        "print(a*b)#multiplication\n",
        "print(a/b)#devision\n",
        "print(a%b)#remainder (modulus)\n",
        "print(a**b)#exponent(power)\n",
        "print(a//b)#floor devision"
      ]
    },
    {
      "cell_type": "code",
      "execution_count": null,
      "metadata": {
        "colab": {
          "base_uri": "https://localhost:8080/"
        },
        "id": "W2g6EpuPI3zT",
        "outputId": "c0fbe025-5e38-4883-ebc0-193116419c82"
      },
      "outputs": [
        {
          "name": "stdout",
          "output_type": "stream",
          "text": [
            "4\n",
            "4.5\n"
          ]
        }
      ],
      "source": [
        "a=9\n",
        "b=2\n",
        "print(a//b)\n",
        "print(a/b)"
      ]
    },
    {
      "cell_type": "markdown",
      "metadata": {
        "id": "4d8V4a5Gq1LV"
      },
      "source": [
        "    Reading .csv file and View Information"
      ]
    },
    {
      "cell_type": "code",
      "execution_count": null,
      "metadata": {
        "colab": {
          "base_uri": "https://localhost:8080/"
        },
        "id": "Lcjifa2IsUWg",
        "outputId": "a89dbcc7-2710-412f-dd48-b7d00547d857"
      },
      "outputs": [
        {
          "name": "stdout",
          "output_type": "stream",
          "text": [
            "<class 'pandas.core.frame.DataFrame'>\n",
            "RangeIndex: 1309 entries, 0 to 1308\n",
            "Data columns (total 14 columns):\n",
            " #   Column     Non-Null Count  Dtype  \n",
            "---  ------     --------------  -----  \n",
            " 0   pclass     1309 non-null   int64  \n",
            " 1   survived   1309 non-null   int64  \n",
            " 2   name       1309 non-null   object \n",
            " 3   sex        1309 non-null   object \n",
            " 4   age        1046 non-null   float64\n",
            " 5   sibsp      1309 non-null   int64  \n",
            " 6   parch      1309 non-null   int64  \n",
            " 7   ticket     1309 non-null   object \n",
            " 8   fare       1308 non-null   float64\n",
            " 9   cabin      295 non-null    object \n",
            " 10  embarked   1307 non-null   object \n",
            " 11  boat       486 non-null    object \n",
            " 12  body       121 non-null    float64\n",
            " 13  home.dest  745 non-null    object \n",
            "dtypes: float64(3), int64(4), object(7)\n",
            "memory usage: 143.3+ KB\n"
          ]
        }
      ],
      "source": [
        "import pandas as pd\n",
        "titanic = pd . read_csv('https://github.com/YBI-Foundation/Dataset/raw/main/Titanic.csv')\n",
        "titanic. info()"
      ]
    },
    {
      "cell_type": "markdown",
      "metadata": {
        "id": "Y5bnInGVxJuL"
      },
      "source": [
        "HTML FILE"
      ]
    },
    {
      "cell_type": "code",
      "execution_count": null,
      "metadata": {
        "colab": {
          "background_save": true
        },
        "id": "flx4Twrpxecu",
        "outputId": "082892e9-a577-48f1-90d7-024f3aea7da0"
      },
      "outputs": [
        {
          "ename": "AttributeError",
          "evalue": "'list' object has no attribute 'info'",
          "output_type": "error",
          "traceback": [
            "\u001b[0;31m---------------------------------------------------------------------------\u001b[0m",
            "\u001b[0;31mAttributeError\u001b[0m                            Traceback (most recent call last)",
            "\u001b[0;32m<ipython-input-14-c208f7af9d87>\u001b[0m in \u001b[0;36m<cell line: 3>\u001b[0;34m()\u001b[0m\n\u001b[1;32m      1\u001b[0m \u001b[0;32mimport\u001b[0m \u001b[0mpandas\u001b[0m \u001b[0;32mas\u001b[0m \u001b[0mpd\u001b[0m\u001b[0;34m\u001b[0m\u001b[0;34m\u001b[0m\u001b[0m\n\u001b[1;32m      2\u001b[0m \u001b[0mTitanic\u001b[0m \u001b[0;34m=\u001b[0m \u001b[0mpd\u001b[0m \u001b[0;34m.\u001b[0m \u001b[0mread_html\u001b[0m\u001b[0;34m(\u001b[0m\u001b[0;34m'https://github.com/YBI-Foundation/Dataset/raw/main/Titanic.html'\u001b[0m\u001b[0;34m)\u001b[0m\u001b[0;34m\u001b[0m\u001b[0;34m\u001b[0m\u001b[0m\n\u001b[0;32m----> 3\u001b[0;31m \u001b[0mTitanic\u001b[0m \u001b[0;34m.\u001b[0m \u001b[0minfo\u001b[0m\u001b[0;34m(\u001b[0m\u001b[0;34m)\u001b[0m\u001b[0;34m\u001b[0m\u001b[0;34m\u001b[0m\u001b[0m\n\u001b[0m",
            "\u001b[0;31mAttributeError\u001b[0m: 'list' object has no attribute 'info'"
          ]
        }
      ],
      "source": [
        "import pandas as pd\n",
        "Titanic = pd . read_html('https://github.com/YBI-Foundation/Dataset/raw/main/Titanic.html')\n",
        "Titanic . info()"
      ]
    }
  ],
  "metadata": {
    "colab": {
      "provenance": [],
      "authorship_tag": "ABX9TyMtE/XeyEMEuzxLdKEN1hKb",
      "include_colab_link": true
    },
    "kernelspec": {
      "display_name": "Python 3",
      "name": "python3"
    },
    "language_info": {
      "name": "python"
    }
  },
  "nbformat": 4,
  "nbformat_minor": 0
}